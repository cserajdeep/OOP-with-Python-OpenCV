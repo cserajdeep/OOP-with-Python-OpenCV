{
  "nbformat": 4,
  "nbformat_minor": 0,
  "metadata": {
    "colab": {
      "name": " OOP-with-Python-OpenCV.ipynb",
      "provenance": []
    },
    "kernelspec": {
      "name": "python3",
      "display_name": "Python 3"
    },
    "language_info": {
      "name": "python"
    }
  },
  "cells": [
    {
      "cell_type": "code",
      "metadata": {
        "colab": {
          "base_uri": "https://localhost:8080/",
          "height": 128
        },
        "id": "6xgQHvVs0f6a",
        "outputId": "adaab625-9e40-4c37-8a61-32bbaee441a8"
      },
      "source": [
        "%%html\n",
        "<b> <h1>Author: Rajdeep Chatterjee</h1> </b>\n",
        "<b> <h3>OOPs Concept with OpenCV for City with Buildings (including windows and doors) </h3></b>\n",
        "<a href=\"https://github.com/cserajdeep\"> Rajdeep' Github Link</a>"
      ],
      "execution_count": null,
      "outputs": [
        {
          "output_type": "display_data",
          "data": {
            "text/html": [
              "<b> <h1>Author: Rajdeep Chatterjee</h1> </b>\n",
              "<b> <h3>OOPs Concept with OpenCV for City with Buildings (including windows and doors) </h3></b>\n",
              "<a href=\"https://github.com/cserajdeep\"> Rajdeep' Github Link</a>"
            ],
            "text/plain": [
              "<IPython.core.display.HTML object>"
            ]
          },
          "metadata": {}
        }
      ]
    },
    {
      "cell_type": "code",
      "metadata": {
        "colab": {
          "base_uri": "https://localhost:8080/",
          "height": 617
        },
        "id": "QHkOvXWFQy2Z",
        "outputId": "815ce22b-f613-4d2b-c526-eeef25a71439"
      },
      "source": [
        "import numpy as np\n",
        "import cv2 as cv\n",
        "import random\n",
        "# only for Google Colab output\n",
        "from google.colab.patches import cv2_imshow\n",
        "\n",
        "# global parameters\n",
        "width = 800\n",
        "height = 600\n",
        "n_buildings = 6\n",
        "ground_level = height-100\n",
        "\n",
        "# background image\n",
        "bg = np.zeros((height, width, 3), dtype=np.uint8)\n",
        "\n",
        "# *********************** Declare Super Class CITY ****************************\n",
        "class City:\n",
        "    def __init__(self, image, day_type):\n",
        "      # super-class constructor \n",
        "      self.img = image\n",
        "      self.sk = day_type['sky']\n",
        "      cv.rectangle(self.img,(width,0), (0, ground_level), self.sk, -1)\n",
        "    \n",
        "    def generate_building_base(self):\n",
        "      loc = int(np.random.choice(range(width), 1))\n",
        "      ht = int(np.random.choice(range(200,400), 1))\n",
        "      wd = 100\n",
        "      radius = 50\n",
        "      scale = np.random.choice(np.linspace(1,3, num=6), 1)\n",
        "      \n",
        "      return loc, ht, wd, radius, scale\n",
        "\n",
        "    def generate_building_colors(self):\n",
        "        steel = (random.randint(90,130),random.randint(80,125),random.randint(100,150))\n",
        "        green = (0, random.randint(130,200),0)\n",
        "        light_blue = (random.randint(200,250),35,35)\n",
        "        white = random.choice([(230,255,255), (200,240,255), (200,250,240)])\n",
        "        yellow = (0,random.randint(200,255),random.randint(200,255))\n",
        "        \n",
        "        return steel, green, light_blue, white, yellow\n",
        "    \n",
        "    def draw_building(self):\n",
        "        loc, ht, wd, radius, scale = self.generate_building_base()\n",
        "        small_width = int(wd*scale-20*scale)\n",
        "        steel, green, light_blue, white, yellow = self.generate_building_colors()\n",
        "        \n",
        "        ########################################################################\n",
        "        # buildings\n",
        "        cv.rectangle(self.img, (loc, ground_level-ht), (loc+int(wd*scale), ground_level), steel, -1)\n",
        "        building_w = int(wd*scale)\n",
        "        building_h = ground_level-ht\n",
        "\n",
        "        ########################################################################\n",
        "        # doors\n",
        "        door_w = random.randint(10,20)\n",
        "        door_x1 = (loc + (loc+int(wd*scale)))//2 - door_w\n",
        "        door_y1 = ground_level - random.randint(30,50)\n",
        "\n",
        "        door_x2 = (loc + (loc+int(wd*scale)))//2 + door_w\n",
        "        door_y2 = ground_level\n",
        "        cv.rectangle(self.img, (door_x1, door_y1), (door_x2, door_y2), light_blue, -1)\n",
        "\n",
        "        ########################################################################\n",
        "        # windows\n",
        "        per1 = 4 # 4 windows (max.)\n",
        "        per2 = 6 # does not matter\n",
        "\n",
        "        # computing the position and proportion of each window\n",
        "        nwindow = building_w // per1\n",
        "        nfloor = building_h // per2\n",
        "        window_w = nwindow // 4\n",
        "        floor_h = nfloor // 4\n",
        "\n",
        "        # initial postion of window (from first window of the first floor) \n",
        "        window_x1 = loc + window_w\n",
        "        window_y1 = building_h + floor_h\n",
        "\n",
        "        window_x2 = loc + nwindow - window_w\n",
        "        window_y2 = window_y1 + nfloor - floor_h\n",
        "        \n",
        "        # gap between two verticle windows\n",
        "        gap = 2*floor_h\n",
        "        while True:\n",
        "          # creating windows\n",
        "          for j in range(per1):\n",
        "            cv.rectangle(self.img, (window_x1, window_y1), (window_x2, window_y2), white, -1)\n",
        "            window_x1 = window_x2 + 2*window_w\n",
        "            window_x2 = window_x1 + 2*window_w\n",
        "\n",
        "          # next floor - update window positions \n",
        "          window_x1 = window_x1 = loc + window_w\n",
        "          window_x2 = window_x2 = loc + nwindow - window_w\n",
        "          window_y1 =  window_y2 + gap\n",
        "          window_y2 =  window_y1 + nfloor - floor_h\n",
        "          \n",
        "          # windows end before the top of the door\n",
        "          if window_y2 > door_y1:\n",
        "            break\n",
        "              \n",
        "        ########################################################################\n",
        "        # ground \n",
        "        cv.rectangle(bg,(width, ground_level), (0, height), green, -1)\n",
        "        \n",
        "        return self.img\n",
        "# *********************** Declare Sub Class DayNightOfCITY ********************\n",
        "\n",
        "class DayNightOfCity(City):\n",
        "    def __init__(self, image, day_type):\n",
        "      # sub-class constructor \n",
        "      super().__init__(image, day_type)\n",
        "      self.dt = day_type\n",
        "      cv.circle(self.img,  self.dt['position'], self.dt['radius'], self.dt['object_color'], -1)\n",
        "\n",
        "      # rest inherits from the City class\n",
        "\n",
        "# *********************** The Main Driver Code ********************************\n",
        "\n",
        "# display image\n",
        "day = {'sky': (255,225,95), 'object_color': (0,255,255), 'position': (600,100), 'radius': 25}\n",
        "night = {'sky': (0,0,0), 'object_color': (255,255,255), 'position': (100,100), 'radius':25}\n",
        "day_type = random.choice([day, night])\n",
        "\n",
        "daynightofcity = DayNightOfCity(bg, day_type)\n",
        "for i in range(n_buildings):\n",
        "  img = daynightofcity.draw_building()\n",
        "\n",
        "# Google Colab image output\n",
        "cv2_imshow(img) \n",
        "\n",
        "# otherwise, use the following codes\n",
        "\n",
        "#cv.imshow('City', img) \n",
        "#cv.waitKey(0)\n",
        "#cv.destroyAllWindows()"
      ],
      "execution_count": 12,
      "outputs": [
        {
          "output_type": "display_data",
          "data": {
            "image/png": "[encoded data removed]",
            "text/plain": [
              "<PIL.Image.Image image mode=RGB size=800x600 at 0x7F7BA15E6910>"
            ]
          },
          "metadata": {}
        }
      ]
    }
  ]
}